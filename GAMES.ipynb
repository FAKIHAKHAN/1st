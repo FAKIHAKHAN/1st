{
  "cells": [
    {
      "cell_type": "markdown",
      "metadata": {
        "id": "view-in-github",
        "colab_type": "text"
      },
      "source": [
        "<a href=\"https://colab.research.google.com/github/FAKIHAKHAN/1st/blob/master/GAMES.ipynb\" target=\"_parent\"><img src=\"https://colab.research.google.com/assets/colab-badge.svg\" alt=\"Open In Colab\"/></a>"
      ]
    },
    {
      "cell_type": "code",
      "source": [
        "import random\n",
        "\n",
        "def play_game():\n",
        "    while True:\n",
        "        top_of_range = input('Type the upper range: ')\n",
        "        if top_of_range.isdigit():\n",
        "            top_of_range = int(top_of_range)\n",
        "            if top_of_range <= 0:\n",
        "                print('Please enter a number greater than zero.')\n",
        "                continue\n",
        "            else:\n",
        "                break\n",
        "        else:\n",
        "            print(\"Please enter a valid number.\")\n",
        "\n",
        "    secret_number = random.randint(1, top_of_range)\n",
        "\n",
        "    while True:\n",
        "        guess = input('Guess the number: ')\n",
        "        if guess.isdigit():\n",
        "            guess = int(guess)\n",
        "        else:\n",
        "            print(\"Please enter a valid number.\")\n",
        "            continue\n",
        "\n",
        "        if guess == secret_number:\n",
        "            print('Right Guess!')\n",
        "            break\n",
        "        elif guess > secret_number:\n",
        "            print('Wrong Guess. Guess a lower number.')\n",
        "        else:\n",
        "            print('Wrong Guess. Guess a higher number.')\n",
        "\n",
        "while True:\n",
        "    play_game()\n",
        "    play_again = input('Do you want to play again? (yes/no): ').lower()\n",
        "    if play_again != 'yes':\n",
        "        print('Thank you for playing!')\n",
        "        break"
      ],
      "metadata": {
        "colab": {
          "base_uri": "https://localhost:8080/"
        },
        "id": "K9HLsKVPV6b4",
        "outputId": "96db8b72-69a4-4988-8984-184f148c7094"
      },
      "execution_count": 1,
      "outputs": [
        {
          "output_type": "stream",
          "name": "stdout",
          "text": [
            "Type the upper range: 25\n",
            "Guess the number: 3\n",
            "Wrong Guess. Guess a higher number.\n",
            "Guess the number: 16\n",
            "Wrong Guess. Guess a lower number.\n",
            "Guess the number: 3\n",
            "Wrong Guess. Guess a higher number.\n",
            "Guess the number: 13\n",
            "Wrong Guess. Guess a lower number.\n",
            "Guess the number: 10\n",
            "Wrong Guess. Guess a lower number.\n",
            "Guess the number: 9\n",
            "Wrong Guess. Guess a lower number.\n",
            "Guess the number: 7\n",
            "Wrong Guess. Guess a higher number.\n",
            "Guess the number: 8\n",
            "Right Guess!\n",
            "Do you want to play again? (yes/no): yes\n",
            "Type the upper range: 10\n",
            "Guess the number: 8\n",
            "Wrong Guess. Guess a lower number.\n",
            "Guess the number: 7\n",
            "Wrong Guess. Guess a lower number.\n",
            "Guess the number: 4\n",
            "Wrong Guess. Guess a lower number.\n",
            "Guess the number: 2\n",
            "Wrong Guess. Guess a higher number.\n",
            "Guess the number: 3\n",
            "Right Guess!\n",
            "Do you want to play again? (yes/no): no\n",
            "Thank you for playing!\n"
          ]
        }
      ]
    },
    {
      "cell_type": "code",
      "execution_count": 2,
      "metadata": {
        "id": "Zz7sk40SaWxS",
        "colab": {
          "base_uri": "https://localhost:8080/"
        },
        "outputId": "b805933b-c46f-4fa7-d2b7-16b96e771f79"
      },
      "outputs": [
        {
          "output_type": "stream",
          "name": "stdout",
          "text": [
            "Type rock/paper/scissors or Q to quit   : \t rock\n",
            "\n",
            " Computer Picked :  paper\n",
            "You Loose\n",
            "Type rock/paper/scissors or Q to quit   : \t paper\n",
            "\n",
            " Computer Picked :  scissors\n",
            "You Loose\n",
            "Type rock/paper/scissors or Q to quit   : \t paper\n",
            "\n",
            " Computer Picked :  scissors\n",
            "You Loose\n",
            "Type rock/paper/scissors or Q to quit   : \t paper\n",
            "\n",
            " Computer Picked :  rock\n",
            "You Win\n",
            "Type rock/paper/scissors or Q to quit   : \t rock\n",
            "\n",
            " Computer Picked :  paper\n",
            "You Loose\n",
            "Type rock/paper/scissors or Q to quit   : \t rock\n",
            "\n",
            " Computer Picked :  paper\n",
            "You Loose\n",
            "Type rock/paper/scissors or Q to quit   : \t rock\n",
            "\n",
            " Computer Picked :  rock\n",
            "Draw \n",
            "Type rock/paper/scissors or Q to quit   : \t paper\n",
            "\n",
            " Computer Picked :  rock\n",
            "You Win\n",
            "Type rock/paper/scissors or Q to quit   : \t paper\n",
            "\n",
            " Computer Picked :  rock\n",
            "You Win\n",
            "Type rock/paper/scissors or Q to quit   : \t q\n",
            "you loose by 2 points\n"
          ]
        }
      ],
      "source": [
        "## ROCK PAPER SCISSORS\n",
        "import random\n",
        "user_win=0\n",
        "comp_win=0\n",
        "options=['rock','paper','scissors']\n",
        "while True:\n",
        "    userInput=input('Type rock/paper/scissors or Q to quit   : \\t ').lower()\n",
        "    if userInput =='q':\n",
        "        break\n",
        "    if userInput not in ['rock','paper','scissors']:\n",
        "        continue\n",
        "\n",
        "    Rn=random.randint(0,2) # generates random No either 0,1,2\n",
        "    # rock = 0 , paper = 1, scissor = 2\n",
        "    computer_pick=options[Rn]\n",
        "    print('\\n Computer Picked : ',computer_pick)\n",
        "    if userInput == 'rock' and computer_pick == 'scissors':\n",
        "        print('You Win')\n",
        "        user_win+=1\n",
        "    elif userInput == computer_pick:\n",
        "        print('Draw ')\n",
        "    elif userInput == 'paper' and computer_pick == 'rock':\n",
        "        print('You Win')\n",
        "        user_win+=1\n",
        "    elif userInput == 'scissors' and computer_pick == 'paper':\n",
        "        print('You Win')\n",
        "        user_win+=1\n",
        "    else:\n",
        "        print('You Loose')\n",
        "        comp_win+=1\n",
        "\n",
        "if comp_win<user_win:\n",
        "    print(f'you win by {user_win-comp_win} points')\n",
        "elif comp_win>user_win:\n",
        "    print(f'you loose by {-user_win+comp_win} points')"
      ]
    }
  ],
  "metadata": {
    "colab": {
      "provenance": [],
      "authorship_tag": "ABX9TyM3IJayDXWZjHSa6fDVV5LG",
      "include_colab_link": true
    },
    "kernelspec": {
      "display_name": "Python 3",
      "name": "python3"
    },
    "language_info": {
      "name": "python"
    }
  },
  "nbformat": 4,
  "nbformat_minor": 0
}